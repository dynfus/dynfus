{
 "cells": [
  {
   "cell_type": "code",
   "execution_count": 1,
   "metadata": {},
   "outputs": [],
   "source": [
    "modes = ['train', 'dev', 'val']"
   ]
  },
  {
   "cell_type": "code",
   "execution_count": 2,
   "metadata": {},
   "outputs": [],
   "source": [
    "paired_text_train = []\n",
    "paired_text_dev = []\n",
    "paired_text_val = []"
   ]
  },
  {
   "cell_type": "code",
   "execution_count": null,
   "metadata": {},
   "outputs": [
    {
     "name": "stdout",
     "output_type": "stream",
     "text": [
      "train 184949\n",
      "225\n",
      "train 184949\n",
      "val 2022\n",
      "103\n",
      "val 2022\n",
      "test 2305\n",
      "115\n",
      "test 2305\n"
     ]
    }
   ],
   "source": [
    "for mode in modes:\n",
    "    with open('data/{}.en'.format(mode), 'r') as f:\n",
    "        eng_lines = f.readlines()\n",
    "        print(mode, len(eng_lines))\n",
    "        print(max([len(l.split()) for l in eng_lines]))\n",
    "    with open('data/{}.pt'.format(mode), 'r') as f:\n",
    "        pt_lines = f.readlines()\n",
    "        print(mode, len(pt_lines))\n",
    "    if mode == 'dev':\n",
    "        paired_text_dev += zip(eng_lines, pt_lines)\n",
    "        print(len(paired_text_dev))\n",
    "    elif mode == 'train':\n",
    "        paired_text_train += zip(eng_lines, pt_lines)\n",
    "        print(len(paired_text_train))\n",
    "    else:\n",
    "        paired_text_val += zip(eng_lines, pt_lines)\n",
    "        print(len(paired_text_val))\n"
   ]
  },
  {
   "cell_type": "code",
   "execution_count": 4,
   "metadata": {},
   "outputs": [],
   "source": [
    "paired_text_train = '\\n'.join(['{}\\t{}'.format(eng_line.strip(), pt_line.strip()) for eng_line, pt_line in paired_text_train])\n",
    "paired_text_dev = '\\n'.join(['{}\\t{}'.format(eng_line.strip(), pt_line.strip()) for eng_line, pt_line in paired_text_dev])\n",
    "paired_text_val = '\\n'.join(['{}\\t{}'.format(eng_line.strip(), pt_line.strip()) for eng_line, pt_line in paired_text_val])"
   ]
  },
  {
   "cell_type": "code",
   "execution_count": 5,
   "metadata": {},
   "outputs": [],
   "source": [
    "with open('data/t2t/en-pt-train.txt', 'w') as f:\n",
    "    f.write(paired_text_train)\n",
    "with open('data/t2t/en-pt-dev.txt', 'w') as f:\n",
    "    f.write(paired_text_dev)\n",
    "with open('data/t2t/en-pt-val.txt', 'w') as f:\n",
    "    f.write(paired_text_val)"
   ]
  }
 ],
 "metadata": {
  "kernelspec": {
   "display_name": "Python 3",
   "language": "python",
   "name": "python3"
  },
  "language_info": {
   "codemirror_mode": {
    "name": "ipython",
    "version": 3
   },
   "file_extension": ".py",
   "mimetype": "text/x-python",
   "name": "python",
   "nbconvert_exporter": "python",
   "pygments_lexer": "ipython3",
   "version": "3.5.2"
  }
 },
 "nbformat": 4,
 "nbformat_minor": 2
}
